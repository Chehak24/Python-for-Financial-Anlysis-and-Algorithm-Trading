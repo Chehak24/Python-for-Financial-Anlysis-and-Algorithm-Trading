{
 "cells": [
  {
   "cell_type": "code",
   "execution_count": 1,
   "id": "26f2943a",
   "metadata": {},
   "outputs": [],
   "source": [
    "import numpy as np\n",
    "import pandas as pd\n",
    "import matplotlib.pyplot as plt\n"
   ]
  },
  {
   "cell_type": "code",
   "execution_count": 2,
   "id": "97efa6f6",
   "metadata": {},
   "outputs": [
    {
     "ename": "NameError",
     "evalue": "name 'get_pricing' is not defined",
     "output_type": "error",
     "traceback": [
      "\u001b[1;31m---------------------------------------------------------------------------\u001b[0m",
      "\u001b[1;31mNameError\u001b[0m                                 Traceback (most recent call last)",
      "\u001b[1;32m<ipython-input-2-89af88f1b343>\u001b[0m in \u001b[0;36m<module>\u001b[1;34m\u001b[0m\n\u001b[0;32m      1\u001b[0m \u001b[0mstart\u001b[0m\u001b[1;33m=\u001b[0m\u001b[1;34m'2015-01-01'\u001b[0m\u001b[1;33m\u001b[0m\u001b[1;33m\u001b[0m\u001b[0m\n\u001b[0;32m      2\u001b[0m \u001b[0mend\u001b[0m\u001b[1;33m=\u001b[0m\u001b[1;34m'2017-01-01'\u001b[0m\u001b[1;33m\u001b[0m\u001b[1;33m\u001b[0m\u001b[0m\n\u001b[1;32m----> 3\u001b[1;33m \u001b[0munited\u001b[0m\u001b[1;33m=\u001b[0m\u001b[0mget_pricing\u001b[0m\u001b[1;33m(\u001b[0m\u001b[1;34m'UAL'\u001b[0m\u001b[1;33m,\u001b[0m\u001b[0mstart_date\u001b[0m\u001b[1;33m=\u001b[0m\u001b[0mstart\u001b[0m\u001b[1;33m,\u001b[0m\u001b[0mend_date\u001b[0m\u001b[1;33m=\u001b[0m\u001b[0mend\u001b[0m\u001b[1;33m)\u001b[0m\u001b[1;33m\u001b[0m\u001b[1;33m\u001b[0m\u001b[0m\n\u001b[0m\u001b[0;32m      4\u001b[0m \u001b[0mamerican\u001b[0m\u001b[1;33m=\u001b[0m\u001b[0mget_pricing\u001b[0m\u001b[1;33m(\u001b[0m\u001b[1;34m'AAL'\u001b[0m\u001b[1;33m,\u001b[0m\u001b[0mstart_date\u001b[0m\u001b[1;33m=\u001b[0m\u001b[0mstart\u001b[0m\u001b[1;33m,\u001b[0m\u001b[0mend_date\u001b[0m\u001b[1;33m=\u001b[0m\u001b[0mend\u001b[0m\u001b[1;33m)\u001b[0m\u001b[1;33m\u001b[0m\u001b[1;33m\u001b[0m\u001b[0m\n",
      "\u001b[1;31mNameError\u001b[0m: name 'get_pricing' is not defined"
     ]
    }
   ],
   "source": [
    "start='2015-01-01'\n",
    "end='2017-01-01'\n",
    "united=get_pricing('UAL',start_date=start,end_date=end)\n",
    "american=get_pricing('AAL',start_date=start,end_date=end)"
   ]
  },
  {
   "cell_type": "code",
   "execution_count": null,
   "id": "c43acafd",
   "metadata": {},
   "outputs": [],
   "source": [
    "# from quantopian.pipeline importpipeline\n",
    "# def make_pipeline():\n",
    "# return pipeline()\n",
    "## pipe\n",
    "## from quantopian.reseach import run_pipeline\n",
    "## result = run_pipeline(pipe,'2017-01-03','2017-01-03')\n",
    "## result.info()\n",
    "##result.columns\n",
    "##from quantopian.pipeline.data.builtin import USEquityPricing\n",
    "## from quantopian.pipeline.factors import SimpleMovingAverage\n",
    "##SimpleMovingAverage(inputs=[USEquityPricing.close],window_length=3)\n",
    "##def make_pipeline():\n",
    "##   mean_close_30=SimpleMovingAverage(inputs=[USEquityPricing.close],window_length=30)\n",
    "##   return Pipeline(columns={'30 Day Mean Close' : mean_close_30})\n",
    "\n",
    "##results = run_pipeline(make_pipeline(),'2017-01-03','2017-01-03')\n",
    "##results.head()\n",
    "\n",
    "\n",
    "##def make_pipeline():\n",
    "##    mean_close_30=SimpleMovingAverage(inputs=[USEquityPricing.close],window_length=30)\n",
    "##    latest_close=USEquityPricing.Close.latest\n",
    "## return Pipeline(columns={'30 Day Mean Close':mean_close_30,'Latest Close':latest_close})\n",
    "\n",
    "## results = run_pipeline(make_pipeline(),'2017-01-03','2017-01-03')\n",
    "## results.head()\n",
    "\n",
    "\n",
    "## def make_pipeline():\n",
    "## mean_close_30=SimpleMovingAverage(inputs=[USEquityPricing.close],window_length=30)\n",
    "## mean_close_10=SimpleMovingAverage(inputs=[USEquityPricing.close],window_length=10)\n",
    "## latest_close=USEquityPricing.Close.latest\n",
    "\n",
    "## percent_diff=(mean_close_10-mean_close_30)/mean_close_30\n",
    "\n",
    "## return Pipeline(columns={'30 Day Mean Close':mean_close_30,'Percent Diff':percent_diff,\n",
    "## 'Latest Close':latest_close})\n",
    "## results = run_pipeline(make_pipeline(),'2017-01-03','2017-01-03')\n",
    "## results.head()\n",
    "\n",
    "## def make_pipeline():\n",
    "## mean_close_30=SimpleMovingAverage(inputs=[USEquityPricing.close],window_length=30)\n",
    "## mean_close_10=SimpleMovingAverage(inputs=[USEquityPricing.close],window_length=10)\n",
    "## latest_close=USEquityPricing.close.latest\n",
    "\n",
    "## percent_diff=(mean_close_10-mean_close_30)/mean_close_30\n",
    "## perc_filter=percent_diff>0\n",
    "\n",
    "\n",
    "## return Pipeline(columns={'Percent Difference':percent_difference,  '30 Day Mean Close':mean_close_30,'Percent filter':percent_filter,\n",
    "## 'Latest Close':latest_close},screen=~perc_filter) ## ~ to get the opposite of screen,and only positive values of the perc diff\n",
    "## results = run_pipeline(make_pipeline(),'2017-01-03','2017-01-03')\n",
    "## results.head()"
   ]
  },
  {
   "cell_type": "code",
   "execution_count": null,
   "id": "e3b907d1",
   "metadata": {},
   "outputs": [],
   "source": [
    "## def make_pipeline():\n",
    "## mean_close_30=SimpleMovingAverage(inputs=[USEquityPricing.close],window_length=30)\n",
    "## mean_close_10=SimpleMovingAverage(inputs=[USEquityPricing.close],window_length=10)\n",
    "## latest_close=USEquityPricing.close.latest\n",
    "\n",
    "## percent_diff=(mean_close_10-mean_close_30)/mean_close_30\n",
    "## perc_filter=percent_diff>0\n",
    " \n",
    "## small_price=latest_close<5\n",
    "\n",
    "## COMBINE FILTERS\n",
    "## final_filter = perc_filter & small_price\n",
    "\n",
    "## return Pipeline(columns={'Percent Difference':percent_difference,  '30 Day Mean Close':mean_close_30,'Percent filter':percent_filter,\n",
    "## 'Latest Close':latest_close},screen=final_filter)\n",
    "## results = run_pipeline(make_pipeline(),'2017-01-03','2017-01-03')\n",
    "## results.head()"
   ]
  },
  {
   "cell_type": "code",
   "execution_count": null,
   "id": "ee2a7568",
   "metadata": {},
   "outputs": [],
   "source": [
    "## MASKING AND CLASSIFIERS- take in an asset and return a categorical value, such as sector or exchange\n",
    "\n",
    "## def make_pipeline():\n",
    "## latest_close=USEquityPricing.close.latest\n",
    "## small_price=latest_close<5\n",
    "## mean_close_10=SimpleMovingAverage(inputs=[USEquityPricing.close],window_length=10,mask=small_price)\n",
    "## mean_close_30=SimpleMovingAverage(inputs=[USEquityPricing.close],window_length=30,mask=small_price)\n",
    "## percent_diff=(mean_close_10-mean_close_30)/mean_close_30\n",
    "## perc_diff_check=percent_difference>0"
   ]
  },
  {
   "cell_type": "code",
   "execution_count": null,
   "id": "938ae946",
   "metadata": {},
   "outputs": [],
   "source": [
    " CLASSIFIERS FILTER\n",
    "## from quontopian.pipeline.data import morningstar\n",
    "## from quontopian.pipeline.classifiers.morningstar import Sector\n",
    "## morningstar_sector=Sector()\n",
    "## morningstar_sector\n",
    "## exchange= morningstar.share_class_reference.exchange_id.latest\n",
    "## exchange\n",
    "## nyse_filter=exchange.eq('NYS')"
   ]
  },
  {
   "cell_type": "code",
   "execution_count": null,
   "id": "0494daf0",
   "metadata": {},
   "outputs": [],
   "source": [
    "## def make_pipeline():\n",
    "## latest_close=USEquityPricing.close.latest\n",
    "## small_price=latest_close<5\n",
    "\n",
    "##CLASSIFIER \n",
    "## nyse_filter=exchange.eq('NYS')\n",
    "## mean_close_30=SimpleMovingAverage(inputs=[USEquityPricing.close],window_length=30)\n",
    "## mean_close_10=SimpleMovingAverage(inputs=[USEquityPricing.close],window_length=10)\n",
    "\n",
    "\n",
    "## percent_diff=(mean_close_10-mean_close_30)/mean_close_30\n",
    "## perc_filter=percent_diff>0\n",
    " \n",
    "\n",
    "## COMBINE FILTERS\n",
    "## final_filter = perc_filter & nyse_filter\n",
    "\n",
    "## return Pipeline(columns={'Percent Difference':percent_difference,  '30 Day Mean Close':mean_close_30,'Percent filter':percent_filter,\n",
    "## 'Latest Close':latest_close},screen=final_filter)\n",
    "## results = run_pipeline(make_pipeline(),'2017-01-03','2017-01-03')\n",
    "## results.head()"
   ]
  }
 ],
 "metadata": {
  "kernelspec": {
   "display_name": "Python 3",
   "language": "python",
   "name": "python3"
  },
  "language_info": {
   "codemirror_mode": {
    "name": "ipython",
    "version": 3
   },
   "file_extension": ".py",
   "mimetype": "text/x-python",
   "name": "python",
   "nbconvert_exporter": "python",
   "pygments_lexer": "ipython3",
   "version": "3.8.8"
  }
 },
 "nbformat": 4,
 "nbformat_minor": 5
}
