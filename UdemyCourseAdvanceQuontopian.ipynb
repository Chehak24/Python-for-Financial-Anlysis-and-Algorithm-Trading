{
 "cells": [
  {
   "cell_type": "code",
   "execution_count": null,
   "id": "c72f7221",
   "metadata": {},
   "outputs": [],
   "source": [
    "## from quantopian.pipeline import Pipeline\n",
    "## from quantopian.research import run_pipeline\n",
    "## from quantopian.pipeline.data.builtin import USEquityPricing\n",
    "\n",
    "\n",
    "## from quantopian.pipeline.filters import Q1500US\n",
    "## universe = Q1500US()\n"
   ]
  },
  {
   "cell_type": "code",
   "execution_count": null,
   "id": "94d91751",
   "metadata": {},
   "outputs": [],
   "source": [
    "## from quantopian.pipeline.classifiers.morningstar import Sector\n",
    "## morningstar_sector=Sector()\n",
    "\n",
    "##BUT THE BASIC WAY "
   ]
  },
  {
   "cell_type": "code",
   "execution_count": null,
   "id": "8eb91319",
   "metadata": {},
   "outputs": [],
   "source": [
    "## from quantopian.pipeline.data import morningstar\n",
    "## sector = morningstar.asset_classification.morningstar_sector_code.latest\n",
    "\n",
    "\n",
    "## TO GET HERE"
   ]
  },
  {
   "cell_type": "code",
   "execution_count": null,
   "id": "b24c847e",
   "metadata": {},
   "outputs": [],
   "source": [
    "\n",
    "#energy_sector = sector.eq(309)"
   ]
  },
  {
   "cell_type": "code",
   "execution_count": null,
   "id": "d85a6d1c",
   "metadata": {},
   "outputs": [],
   "source": [
    "### from quantopian.pipeline.factors import SimpleMovingAverage, AverageDollarVolume\n",
    "## dollar_volume=AverageDollarVolume(window_length=30)"
   ]
  },
  {
   "cell_type": "code",
   "execution_count": null,
   "id": "a2600460",
   "metadata": {},
   "outputs": [],
   "source": [
    "##dollar_volume.top(5)\n",
    "\n",
    "##high_dollar_volume=dollar_volume.percentile_between(90,100)"
   ]
  },
  {
   "cell_type": "code",
   "execution_count": null,
   "id": "bf0838f4",
   "metadata": {},
   "outputs": [],
   "source": [
    "## top-open_prices = USEquityPricing.open.latest.top(50,mask=high_dollar_volume)\n",
    "\n",
    "## high_close_price=USEquityPricing.close.latest.percentile_between(90,100,mask=top_open_prices)"
   ]
  },
  {
   "cell_type": "code",
   "execution_count": null,
   "id": "7d533834",
   "metadata": {},
   "outputs": [],
   "source": []
  },
  {
   "cell_type": "code",
   "execution_count": null,
   "id": "fff93804",
   "metadata": {},
   "outputs": [],
   "source": []
  },
  {
   "cell_type": "code",
   "execution_count": null,
   "id": "3e5e6ef3",
   "metadata": {},
   "outputs": [],
   "source": [
    "#def make_pipeline():\n",
    "\n",
    "# -> Universe Q1500US\n",
    "## base_universe = Q1500US()\n",
    "\n",
    "#->Energy Sector\n",
    "\n",
    "## sector = morningstar.asset_classification.morningstar_sector_code.latest\n",
    "## energy_sector=sector.eq(309)\n",
    "\n",
    "#->Make Mask of 1500US and Energy\n",
    "\n",
    "## base_energy=base_universe & energy_sector\n",
    "\n",
    "\n",
    "#-> Dollar Volume (30 Days) Grab the Info\n",
    "\n",
    "##dollar_volume = AverageDollarVolume(window_length=30)\n",
    "\n",
    "#-> Grab the top 5% in avg dollar vol\n",
    "\n",
    "###high_dollar_volume=dollar_volume.percentile_between(95,100)\n",
    "\n",
    "#->Combine the filters\n",
    "\n",
    "##top_five_base_energy=base_energy & high_dollar_volume\n",
    "\n",
    "#-> 10 Day Mean Close\n",
    "\n",
    "##mean_10=SimpleMovingAverage(inputs=[USEquityPricing.close],window_length=10,mask=top_five_base_energy)\n",
    "\n",
    "#-> 30 Day Mean Close\n",
    "\n",
    "####mean_30=SimpleMovingAverage(inputs=[USEquityPricing.close],window_length=10,mask=top_five_base_energy)\n",
    "\n",
    "#->Percent Differnce\n",
    "\n",
    "##percent_difference=(mean_10-mean_30)/mean_30\n",
    "\n",
    "#-> List of Shorts\n",
    "##shorts=percentile_difference<0\n",
    "\n",
    "#-> List of Longs\n",
    "## longs=percentile_differnce>0\n",
    "\n",
    "#-> Final Mask/Filter for anything in shorts or longs\n",
    "\n",
    "##securities_to_trade=(shorts | longs)\n",
    "\n",
    "## -> Return Pipeline \n",
    "## return Pipeline(columns={'longs':longs,'shorts':shorts,'perc_diff':percent_difference},screen=securities_to_trade)\n",
    "\n"
   ]
  },
  {
   "cell_type": "code",
   "execution_count": null,
   "id": "e81799a4",
   "metadata": {},
   "outputs": [],
   "source": [
    "result=run_pipeline(make_pipeline(),'2015-05-05','2015-05-05')\n",
    "result"
   ]
  },
  {
   "cell_type": "code",
   "execution_count": null,
   "id": "af136058",
   "metadata": {},
   "outputs": [],
   "source": [
    "## TAKING IT TO IDE\n",
    "\n",
    "## from quantopian.algorithm import attach_pipeline,pipeline_output\n",
    "## from quantopian.pipeline import pipeline\n",
    "## from quantopian.pipeline.data.builtin import USEquityPricing\n",
    "## from quantopian.pipeline.factors import AverageDollarVolume,SimpleMovingAverage\n",
    "## from quantopian.pipeline.filters.morningstar import Q1500us\n",
    "\n",
    "## from quantopian.pipeline.data import morningstar\n",
    "\n",
    "\n",
    "\n",
    "##def initialize (context):\n",
    "###    schedule_function(my_rebalance,date_rules.week_start(),time_rules.market_open(hours=1))\n",
    "###    \n",
    "##     my_pipe=make_pipeline()\n",
    "##     attach_pipeline(my_pipe,'my_pipeline')\n",
    "\n",
    "###def my_rebalance(context,data):\n",
    "##    for security in context.portfolio.positions:\n",
    "###        if security not in context.longs and  security not in context.shorts and data.can_trade(security):\n",
    "####            order_target_percent(security,0)\n",
    "###   for security in context.longs:\n",
    "###       if data.can_trade(security):\n",
    "###            order_target_percent(security,context.long_weight)\n",
    "###   for security in context.shorts:\n",
    "###       if data.can_trade(security):\n",
    "###            order_target_percent(security,context.shorts_weight)\n",
    "\n",
    "\n",
    "### def my_compute_weights(context)\n",
    "####    if len(context.longs)==0:\n",
    "###           long_weight=0\n",
    "###     else:\n",
    "###           long_weight=0.5/len(context.longs)\n",
    "###     if len(context.shorts)==0:\n",
    "###           short_weight=0\n",
    "###     else:\n",
    "###          short_weight=0.5/len(context.shorts)\n",
    "###     long_weight = 0.5/len(context.longs)\n",
    "###     short_weight = 0.5/len(context.shorts)\n",
    "\n",
    "\n",
    "###     return (long_weight,short_weight)\n",
    "\n",
    "### def before_trading_start(context,data):\n",
    "####     context.output = pipeline_output('my_pipeline')\n",
    "###      LONG\n",
    "###      context.longs=context.output[context.output['longs']].index.tolist()\n",
    "###      SHORT\n",
    "###      context.shorts=context.output[context.output['shorts']].index.tolist()\n",
    "\n",
    "### context.long_weight,context.short_weight=my_compute_weights(context)\n",
    "\n",
    "#def make_pipeline():\n",
    "\n",
    "# -> Universe Q1500US\n",
    "## base_universe = Q1500US()\n",
    "\n",
    "#->Energy Sector\n",
    "\n",
    "## \n",
    "## energy_sector=sector.eq(309)\n",
    "\n",
    "#->Make Mask of 1500US and Energy\n",
    "\n",
    "## base_energy=base_universe & energy_sector\n",
    "\n",
    "\n",
    "#-> Dollar Volume (30 Days) Grab the Info\n",
    "\n",
    "##dollar_volume = AverageDollarVolume(window_length=30)\n",
    "\n",
    "#-> Grab the top 5% in avg dollar vol\n",
    "\n",
    "###high_dollar_volume=dollar_volume.percentile_between(95,100)\n",
    "\n",
    "#->Combine the filters\n",
    "\n",
    "##top_five_base_energy=base_energy & high_dollar_volume\n",
    "\n",
    "#-> 10 Day Mean Close\n",
    "\n",
    "##mean_10=SimpleMovingAverage(inputs=[USEquityPricing.close],window_length=10,mask=top_five_base_energy)\n",
    "\n",
    "#-> 30 Day Mean Close\n",
    "\n",
    "####mean_30=SimpleMovingAverage(inputs=[USEquityPricing.close],window_length=10,mask=top_five_base_energy)\n",
    "\n",
    "#->Percent Differnce\n",
    "\n",
    "##percent_difference=(mean_10-mean_30)/mean_30\n",
    "\n",
    "#-> List of Shorts\n",
    "##shorts=percentile_difference<0\n",
    "\n",
    "#-> List of Longs\n",
    "## longs=percentile_differnce>0\n",
    "\n",
    "#-> Final Mask/Filter for anything in shorts or longs\n",
    "\n",
    "##securities_to_trade=(shorts | longs)\n",
    "\n",
    "## -> Return Pipeline \n",
    "## return Pipeline(columns={'longs':longs,'shorts':shorts,'perc_diff':percent_difference},screen=securities_to_trade)\n",
    "\n",
    "\n",
    "\n"
   ]
  },
  {
   "cell_type": "code",
   "execution_count": null,
   "id": "7bf36722",
   "metadata": {},
   "outputs": [],
   "source": [
    "### LEVERAGES\n",
    "\n",
    "## def initialize(context):\n",
    "##       context.amzn=sid(16841)\n",
    "##       context.ibm=sid(3766)\n",
    "##       schedule_Function(rebalance,date_rules.every_day(),time_rules.market_open())\n",
    "##       schedule_Function(record_vars,date_rules.every_day(),time_rules.market_close())\n",
    "##def rebalance(context,data):\n",
    "##      order_target_percent(context.amzn,0.5)\n",
    "##      order_target_percent(context.ibm,-0.5)\n",
    "##def record_vars(context.data):\n",
    "##      record(amzn_close=data.current(context.amzn,'close'))\n",
    "##      record(ibm_close=data.current(context.ibm,'close'))\n",
    "##      record(Leverage=context.account.leverage)\n",
    "##      record(Exposure=context.account.net_leverage)\n",
    "\n",
    "## after running in url we have algorithm's hashcode and backtest hash code\n",
    "\n",
    "## bt=get_backtest('*copy the number from url*')\n",
    "##bt.benchmark_security\n",
    "##bt.algo_id\n",
    "##bt.recorded_vars"
   ]
  },
  {
   "cell_type": "code",
   "execution_count": null,
   "id": "3a6b55cb",
   "metadata": {},
   "outputs": [],
   "source": [
    "#bt.recorded_vars['Leverage'].plot()\n"
   ]
  },
  {
   "cell_type": "code",
   "execution_count": null,
   "id": "92a4443c",
   "metadata": {},
   "outputs": [],
   "source": [
    "#HIGH LEVERAGE\n",
    "#bt=get.backtest('2798401393013914')\n"
   ]
  },
  {
   "cell_type": "code",
   "execution_count": null,
   "id": "46525d0f",
   "metadata": {},
   "outputs": [],
   "source": [
    "##bt.recorded_vars['Leverage'].plot()"
   ]
  },
  {
   "cell_type": "code",
   "execution_count": null,
   "id": "578703af",
   "metadata": {},
   "outputs": [],
   "source": [
    "### setting LEVERAGES\n",
    "\n",
    "## def initialize(context):\n",
    "##       set_max_leverage(1.05)\n",
    "##       context.amzn=sid(16841)\n",
    "##       context.ibm=sid(3766)\n",
    "\n",
    "##schedule_Function(rebalance,date_rules.every_day(),time_rules.market_open())\n",
    "##schedule_Function(record_vars,date_rules.every_day(),time_rules.market_close())\n",
    "\n",
    "##def rebalance(context,data):\n",
    "##      order_target_percent(context.amzn,0.5)\n",
    "##      order_target_percent(context.ibm,-0.5)\n",
    "\n",
    "##def record_vars(context.data):\n",
    "##      record(amzn_close=data.current(context.amzn,'close'))\n",
    "##      record(ibm_close=data.current(context.ibm,'close'))\n",
    "##      record(Leverage=context.account.leverage)\n",
    "##      record(Exposure=context.account.net_leverage)\n",
    "\n",
    "## after running in url we have algorithm's hashcode and backtest hash code\n",
    "\n",
    "## bt=get_backtest('*copy the number from url*')\n",
    "##bt.benchmark_security\n",
    "##bt.algo_id\n",
    "##bt.recorded_vars"
   ]
  },
  {
   "cell_type": "code",
   "execution_count": null,
   "id": "74931881",
   "metadata": {},
   "outputs": [],
   "source": [
    "##HEDGING\n",
    "##HEDGE AGAINST THE BETA VALUE\n",
    "## CALC SHORT POSITION \n"
   ]
  },
  {
   "cell_type": "code",
   "execution_count": null,
   "id": "c10aea37",
   "metadata": {},
   "outputs": [],
   "source": [
    "##import numpy as np\n",
    "## from statsmodels import regression\n",
    "## import statsmodel.api as sm\n",
    "## import matplotlib.pyplot as plt\n",
    "## start = '2016-01-01'\n",
    "## end = '2017-01-01'\n",
    "## asset = get_pricing('AAPL',fields='price',start_date=start,end_date=end)\n",
    "## asset.head()"
   ]
  },
  {
   "cell_type": "code",
   "execution_count": null,
   "id": "45554d80",
   "metadata": {},
   "outputs": [],
   "source": [
    "##benchmark = get_pricing('SPY',fields='price',start_date=start,end_date=end)\n",
    "## asset_ret=asset.pct_change(1)[1:]\n",
    "## bench_ret=benchmark.pct_change(1)[1:]"
   ]
  },
  {
   "cell_type": "code",
   "execution_count": null,
   "id": "17a10a9d",
   "metadata": {},
   "outputs": [],
   "source": [
    "##Plot"
   ]
  },
  {
   "cell_type": "code",
   "execution_count": null,
   "id": "67b3f650",
   "metadata": {},
   "outputs": [],
   "source": [
    "##asset_ret.plot()\n",
    "##bench_ret.plot()\n",
    "##plt.legend()"
   ]
  },
  {
   "cell_type": "code",
   "execution_count": null,
   "id": "b243bbf2",
   "metadata": {},
   "outputs": [],
   "source": [
    "##plt.scatter(bench_ret,asset_ret,alpha=0.6,s=50)\n",
    "##plt.xlabel('SPY Ret')\n",
    "##plt.ylabel('AAPL Ret')"
   ]
  },
  {
   "cell_type": "code",
   "execution_count": null,
   "id": "c202fa04",
   "metadata": {},
   "outputs": [],
   "source": [
    "## AAPL=asset_ret.values\n",
    "## spy = bench_ret.values\n",
    "## spy_constant=sm.add_constant(spy)\n",
    "## **spy_constant\n",
    "## model=regression.linear_model.OLS(AAPL,spy_constant).fit()\n",
    "## model.params\n",
    "## alpha,beta = model.params\n",
    "## alpha\n",
    "## beta"
   ]
  },
  {
   "cell_type": "code",
   "execution_count": null,
   "id": "545d6fcf",
   "metadata": {},
   "outputs": [],
   "source": [
    "##min_spy=bench_ret,values.min()\n",
    "##max_spy=bench_ret.values.max()\n",
    "\n",
    "##spy_line = np.linspace(min_spy,max_spy,100)\n",
    "## y = spy_line*beta+alpha\n",
    "\n",
    "\n",
    "## plt.plot(spy_line,y,'r')\n",
    "##plt.scatter(bench_ret,asset_ret,alpha=0.6,s=50)\n",
    "##plt.xlabel('SPY Ret')\n",
    "##plt.ylabel('AAPL Ret')"
   ]
  },
  {
   "cell_type": "code",
   "execution_count": null,
   "id": "4dc669c4",
   "metadata": {},
   "outputs": [],
   "source": [
    "##hedged = -1*(beta*bench_ret)+asset_ret"
   ]
  },
  {
   "cell_type": "code",
   "execution_count": null,
   "id": "44cc5dc8",
   "metadata": {},
   "outputs": [],
   "source": [
    "## hedged.plot(label='AAPL with Hedge')\n",
    "## asset_ret.plot(alpha=0.5)\n",
    "## bench_ret.plot(alpha=0.5)\n",
    "##plt.xlim(['2016-06-01','2016-08-01'])\n",
    "## plt.legend()"
   ]
  },
  {
   "cell_type": "code",
   "execution_count": null,
   "id": "fa50da1f",
   "metadata": {},
   "outputs": [],
   "source": [
    "## def alpha_beta(benchmark_ret,stock):\n",
    "##     benchmark=sm.add_constant(benchmark_ret)\n",
    "##     model=regression.linear_model.OLS(stock,benchmark.fit()\n",
    "##     return model.params[0],model.params[1]"
   ]
  },
  {
   "cell_type": "code",
   "execution_count": null,
   "id": "1b87e92e",
   "metadata": {},
   "outputs": [],
   "source": [
    "## 2016 CELL\n",
    "## start = '2016-01-01'\n",
    "## end = '2017-01-01'\n",
    "## asset2016 = get_pricing('AAPL',fields='price',start_date=start,end_date=end)\n",
    "## benchmark2016 =get_pricing('SPY',fields='price',start_date=start,end_date=end)\n",
    "## asset_ret2016=asset2016.pct_change(1)[1:]\n",
    "## benchmark_ret2016 = benchmark2016.pct_change(1)[1:]\n",
    "\n",
    "## aret_values=asset_ret2016.values\n",
    "## bret_values=benchmark_ret2016.values\n",
    "\n",
    "## alpha2016,beta2016 = alpha_beta(bret_values,aret_values)\n",
    "\n",
    "## print('2016 VALUES')\n",
    "## print('alpha'+str(alpha2016))\n",
    "##print('beta'+str(beta2016))\n",
    "\n",
    "\n",
    "##portfolio=-1* beta2016*benchmark_ret2016+asset_ret2016\n",
    "## alpha,beta=alpha_beta(benchmark_ret2016,portfolio)\n",
    "## print('PORTFOLIO ALPHA AND BETA')\n",
    "##print('alpha '+str(alpha))\n",
    "##print('beta '+str(beta))\n",
    "\n",
    "##portfolio.plot(alpha=0.9,label='AAPL with HEDGE')\n",
    "##asset_ret2016.plot(alpha=0.5)\n",
    "##benchmark_ret2016.plot(alpha=0.5)\n",
    "##plt.ylabel('DAILY RETURN')\n",
    "##plt.legend()"
   ]
  },
  {
   "cell_type": "code",
   "execution_count": null,
   "id": "143b23e8",
   "metadata": {},
   "outputs": [],
   "source": [
    "##portfolio.mean()\n",
    "##asset_ret2016.mean() ->will be reduced since we r hedging against the market with a heavy stock like apple"
   ]
  },
  {
   "cell_type": "code",
   "execution_count": null,
   "id": "84f9ed16",
   "metadata": {},
   "outputs": [],
   "source": [
    "##portfolio.std()"
   ]
  },
  {
   "cell_type": "code",
   "execution_count": null,
   "id": "30ec6edb",
   "metadata": {},
   "outputs": [],
   "source": [
    "##asset_ret2016.std()"
   ]
  },
  {
   "cell_type": "code",
   "execution_count": null,
   "id": "1450abbd",
   "metadata": {},
   "outputs": [],
   "source": [
    "##start = '2017-01-01'\n",
    "## end = '2017-08-01'\n",
    "## asset2016 = get_pricing('AAPL',fields='price',start_date=start,end_date=end)\n",
    "## benchmark2016 =get_pricing('SPY',fields='price',start_date=start,end_date=end)\n",
    "## asset_ret2016=asset2016.pct_change(1)[1:]\n",
    "## benchmark_ret2016 = benchmark2016.pct_change(1)[1:]\n",
    "\n",
    "## aret_values=asset_ret2016.values\n",
    "## bret_values=benchmark_ret2016.values\n",
    "\n",
    "## alpha2016,beta2016 = alpha_beta(bret_values,aret_values)\n",
    "\n",
    "## print('2017 BASED FIGURES')\n",
    "## print('alpha'+str(alpha2017))\n",
    "##print('beta'+str(beta2017))\n"
   ]
  },
  {
   "cell_type": "code",
   "execution_count": null,
   "id": "0790cea8",
   "metadata": {},
   "outputs": [],
   "source": [
    "## alpha2016"
   ]
  },
  {
   "cell_type": "code",
   "execution_count": null,
   "id": "32d944eb",
   "metadata": {},
   "outputs": [],
   "source": [
    "## beta2016"
   ]
  },
  {
   "cell_type": "code",
   "execution_count": null,
   "id": "ea97cd88",
   "metadata": {},
   "outputs": [],
   "source": [
    "## portfolio = -1*beta2016*benchmark_ret2017+asset_ret2017"
   ]
  },
  {
   "cell_type": "code",
   "execution_count": null,
   "id": "f7e95be5",
   "metadata": {},
   "outputs": [],
   "source": [
    "##alpha,beta = alpha_beta(benchmark_ret2017,portfolio)\n",
    "##alpha\n",
    "##beta"
   ]
  },
  {
   "cell_type": "code",
   "execution_count": null,
   "id": "5f09bccc",
   "metadata": {},
   "outputs": [],
   "source": [
    "##portfolio.mean()"
   ]
  },
  {
   "cell_type": "code",
   "execution_count": null,
   "id": "a6aaa1a8",
   "metadata": {},
   "outputs": [],
   "source": [
    "##asset_ret2017.mean()"
   ]
  },
  {
   "cell_type": "code",
   "execution_count": null,
   "id": "02f5dc49",
   "metadata": {},
   "outputs": [],
   "source": [
    "##portfolio.std()"
   ]
  },
  {
   "cell_type": "markdown",
   "id": "a4cf271f",
   "metadata": {},
   "source": [
    "### PyFolio Portfolio Analysis"
   ]
  },
  {
   "cell_type": "code",
   "execution_count": null,
   "id": "4b5907fa",
   "metadata": {},
   "outputs": [],
   "source": [
    "#import pyfolio as pf\n",
    "#import matplotlib.pyplot as plt\n",
    "#import empyrical\n",
    "\n",
    "## ALGO RETURNS\n",
    "# bt=get_backtest('.......')\n",
    "#bt_returns=bt.daily_performance['returns']\n",
    "##bt_positions=bt.pyfolio_positions\n",
    "## bt_transactions=bt.pyfolio_transactions\n",
    "##benchmark_rets=get_backtest('........')\n",
    "##bm_returns=benchmark_rets.daily_performance['returns']\n",
    "##bm_positions = benchmark_rets.pyfolio_positions\n",
    "##bm_transactions = benchmark_rets.pyfolio_transactions"
   ]
  },
  {
   "cell_type": "code",
   "execution_count": null,
   "id": "d08c68af",
   "metadata": {},
   "outputs": [],
   "source": [
    "##empyrical.sharpe_ratio(bt_returns)\n",
    "##empyrical.sharpe_ratio(bm_returns)\n",
    "##empyrical.beta(bt_returns,bm_returns)\n",
    "##benchmark_rets=bm_returns\n",
    "\n",
    "## TO CALC THE CUMULATIVE RESULTS\n",
    "##plt.subplot(2,1,1)\n",
    "##pf.plotting.plot_rolling_returns(bt_returns,benchmark_rets)\n",
    "\n",
    "## DAILY,NON-CUMULATIVE RETURNS\n",
    "##plt.subplot(2,1,2)\n",
    "##pf.plotting.plot_returns(bt_returns)\n",
    "##plt.tight_layout()"
   ]
  },
  {
   "cell_type": "code",
   "execution_count": null,
   "id": "123cde91",
   "metadata": {},
   "outputs": [],
   "source": [
    "fig=plt.figure(1)\n",
    "plt.subplot(1,3,1)\n",
    "pf.plot_annual_returns(bt_returns)\n",
    "plt.subplot(1,3,2)\n",
    "pf.plot_monthly_returns_dist(bt_returns)\n",
    "plt.subplot(1,3,3)\n",
    "pf.plot_monthly_returns_heatmap(bt_returns)\n",
    "plt.tight_layout()\n",
    "fig.set_size_inches(15,5)"
   ]
  },
  {
   "cell_type": "code",
   "execution_count": null,
   "id": "4c509fce",
   "metadata": {},
   "outputs": [],
   "source": [
    "pf.plot_return_quantiles(bt_returns);"
   ]
  },
  {
   "cell_type": "code",
   "execution_count": null,
   "id": "25f98447",
   "metadata": {},
   "outputs": [],
   "source": [
    "pf.plot_rolling_beta(bt_returns,benchmark_rets)\n"
   ]
  },
  {
   "cell_type": "code",
   "execution_count": null,
   "id": "49a6127a",
   "metadata": {},
   "outputs": [],
   "source": [
    "pf.plot_rolling_sharpe(bt_returns)"
   ]
  },
  {
   "cell_type": "code",
   "execution_count": null,
   "id": "21d952c9",
   "metadata": {},
   "outputs": [],
   "source": [
    "pf.plot_drawdown_periods(bt_returns)"
   ]
  },
  {
   "cell_type": "code",
   "execution_count": null,
   "id": "db66c148",
   "metadata": {},
   "outputs": [],
   "source": [
    "pf.plot_drawdown_underwater(bt_returns)"
   ]
  },
  {
   "cell_type": "code",
   "execution_count": null,
   "id": "1753f069",
   "metadata": {},
   "outputs": [],
   "source": [
    "pf.plot_gross_leverage(bt_returns,bt_positions)"
   ]
  },
  {
   "cell_type": "code",
   "execution_count": null,
   "id": "251cffe8",
   "metadata": {},
   "outputs": [],
   "source": [
    "pf.create_round_trip_tear_sheet(bt_returns,bt_positions,bt_transactions)"
   ]
  },
  {
   "cell_type": "code",
   "execution_count": null,
   "id": "66b72d83",
   "metadata": {},
   "outputs": [],
   "source": [
    "## IN IDE\n",
    "\n",
    "## from quantopian.algoithm import attach_pipeline,pipeline_output\n",
    "\n",
    "## from quantopian.pipeline import pipeline\n",
    "\n",
    "## from quantopian.pipeline.factors import AverageDollarVolume\n",
    "\n",
    "## from quantopian.pipeline.data.accern import  alphaone_free\n",
    "\n",
    "## def initialize(context):\n",
    "##     schedule_function(my_rebalance,date_rules.every_day())\n",
    "##     attach_pipeline(make_pipeline(),'pipeline')\n",
    "\n",
    "## def make_pipeline():\n",
    "##     dollar_vol = AverageDollarVolume(window_length=20)\n",
    "##     dollar_vol.rank(ascending=False)<1000\n",
    "##     is_liquid=dollar_volume.top(1000)\n",
    "##     impact=alphaone_free.impact_score.latest\n",
    "##     sentiment=alphaone_free.article_sentiment.latest\n",
    "##     return Pipeline(columns={'impact':impact,'sentiment':sentiment},screen=is_liquid)\n",
    "\n",
    "## def before_traading_start(context,data):\n",
    "##      port=pipeline_output('pipeline')\n",
    "##      port=pipeline_output('pipeline')\n",
    "##      context.longs=port[(port['impact']==100) & (port['sentiment']>0.75)].index.tolist()\n",
    "##      context.shorts=port[(port['impact']==100) & (port['sentiment']<-0.5)].index.tolist()\n",
    "##      context.long_weight,context.short_white =my_compute_wights(context)\n",
    "\n",
    "## def my_compute_weights(context):\n",
    "##     long_weights=0.5/len(context.logs)\n",
    "##     short_weights=0.5/len(context.shorts)\n",
    "##     return long_weight,short_(re)\n",
    "## def my_rebalance(context,data):\n",
    "##     for security in context.portfolio.positions:\n",
    "##           if security not in context.longs and security not in context.shorts and data.can_trade(security):\n",
    "##                  order_target_percent(security,0)\n",
    "##     for security in context.longs:\n",
    "##            if data.can_trade(security):\n",
    "##                  order_target_percent(security,context.long_weight)\n",
    "##     for security in context.shorts:\n",
    "##            if data.can_trade(security):\n",
    "##                   order_target_percent(security, context.short_weight)"
   ]
  },
  {
   "cell_type": "code",
   "execution_count": null,
   "id": "85a1c93c",
   "metadata": {},
   "outputs": [],
   "source": [
    "## INTRODUCTION INTO FUTURES\n",
    "\n",
    "# derivative\n",
    "##forward \n",
    "## future"
   ]
  },
  {
   "cell_type": "code",
   "execution_count": null,
   "id": "d7551d49",
   "metadata": {},
   "outputs": [],
   "source": [
    "## import numpy as np\n",
    "## import pandas as pd\n",
    "## import matplotlib.pyplot as plt"
   ]
  },
  {
   "cell_type": "code",
   "execution_count": null,
   "id": "da7e0cd4",
   "metadata": {},
   "outputs": [],
   "source": [
    "##future_contract = symbols('NGF18')\n",
    "## future_contract. asset_name\n",
    "## for key in future_contract.to_dict():\n",
    "##     print(key) ## to see the root symbol, the tick size and the exchange its lsited on\n",
    "##     print(future_contract.to_dict([key]))\n",
    "##     print('\\n')\n",
    "\n",
    "## future_position_value=get_pricing(future_contract,start_date='2017-01-01',end_date='2018-01-01')\n",
    "\n",
    "## future_position_value.name=future_position_value.name.symbol\n",
    "## future_position_value.plot()\n",
    "\n",
    "## from quantopian.research.experimental import history\n",
    "## print(history.__doc__)\n",
    "\n",
    "##ngf18 = future_contract\n",
    "## ngf18_data=history(ngf18,fields=['price',''open_price','high','low','close_price','volume','contract'],frequency='daily',start_Date = ' 2017-06-01',end_Date='2017-08-01')\n",
    "\n",
    "#ngf18_data.head()\n",
    "##ngf18_data['volume'].plot(kind='bar')\n",
    "\n",
    "##ng_contracts=symbol(['NGF17','NGG17','NGH17','NGJ17','NGK17','NGM17']) ## differnet months\n",
    "\n",
    "## ng_consecutive_contract_volume = history(ng_contracts,fields='volume',freq='daily',start_date='2016-01-01',end_date='2017-08-01')\n",
    "\n",
    "##ng_consecutive_contract_volume.plot()\n",
    "\n",
    "## ng_consecutive_contract_volume(xlim=['2016-10-01','2017-08-01']) ## we can see one of the bond getting matures ## how the roolover takes effect"
   ]
  },
  {
   "cell_type": "code",
   "execution_count": null,
   "id": "ecc810f6",
   "metadata": {},
   "outputs": [],
   "source": [
    "##Continuous future-not actually tradable,abstraction over the actual tradable assets,which r these individual futute contracts\n",
    "\n",
    "## from quantopian.research.experimental import continuous_future\n",
    "##3 print(continuous_future.__doc__) ##documentation"
   ]
  },
  {
   "cell_type": "code",
   "execution_count": null,
   "id": "a8c2edf3",
   "metadata": {},
   "outputs": [],
   "source": [
    "## continuous_ng=continuous_future('NG',offset=0,roll='volume',adjusment='mul')\n",
    "## continuous_ng\n",
    "## ng_cont_active=history(continuous_ng,fields=['contract','price','volume'],frequency='daily',start_date='2016-10-01',end_date='2017-08-01')\n",
    "##(multi colored graph)\n",
    "## ng_cont_active.head()"
   ]
  },
  {
   "cell_type": "code",
   "execution_count": null,
   "id": "574e512e",
   "metadata": {},
   "outputs": [],
   "source": [
    "## ng_cont_active['contract'].unique()\n",
    "## ng_cont_active['price'].plot()"
   ]
  },
  {
   "cell_type": "code",
   "execution_count": null,
   "id": "23fcac82",
   "metadata": {},
   "outputs": [],
   "source": [
    "##ng_cont_active['volume'].plot()\n"
   ]
  },
  {
   "cell_type": "code",
   "execution_count": null,
   "id": "d2b2fd64",
   "metadata": {},
   "outputs": [],
   "source": [
    "## ng_consecutive_contract_volume = history(ng_contracts,fields='volume',freq='daily',start_date='2016-10-01',end_date='2017-08-01')"
   ]
  },
  {
   "cell_type": "code",
   "execution_count": null,
   "id": "c02c4710",
   "metadata": {},
   "outputs": [],
   "source": [
    "## ax= ng_cont_active['volume'].plot(ls='--',c='black')\n",
    "\n",
    "## ng_consecutive_contract_volume.plot(ax=ax) ## axis = ax"
   ]
  },
  {
   "cell_type": "code",
   "execution_count": null,
   "id": "438bcc96",
   "metadata": {},
   "outputs": [],
   "source": [
    "## ng_consecutive_contract_price = history(ng_contracts,fields='volume',freq='price',start_date='2016-10-01',end_date='2017-08-01')\n",
    "##ng_consecutive_contract_price.plot() *----*\n",
    "##(multi colored graph)"
   ]
  },
  {
   "cell_type": "code",
   "execution_count": null,
   "id": "3c35b94e",
   "metadata": {},
   "outputs": [],
   "source": [
    "## continuous_ng_unadjusted = continuous_future('NG',offset=0,roll='volume',adjustment = None)\n",
    "## range on y axis  will be highly different as compared to prev graph"
   ]
  },
  {
   "cell_type": "code",
   "execution_count": null,
   "id": "225c1843",
   "metadata": {},
   "outputs": [],
   "source": [
    "##ng_unadjusted_history = history(continuous_ng_unadjusted ,fields=['contract','price',freq='daily',start_date='2016-10-01',end_date='2017-08-01')"
   ]
  },
  {
   "cell_type": "code",
   "execution_count": null,
   "id": "032fc759",
   "metadata": {},
   "outputs": [],
   "source": [
    "##ng_unadjusted_history.head() ->being ploted acc to volume"
   ]
  },
  {
   "cell_type": "code",
   "execution_count": null,
   "id": "201010cc",
   "metadata": {},
   "outputs": [],
   "source": [
    "##pivot_unadj=ng_unadjusted_history.pivot(index=ng_unadjusted_history.index,columns='contract')\n",
    "\n",
    "## to plot above 2 graphs on the same plot"
   ]
  },
  {
   "cell_type": "code",
   "execution_count": null,
   "id": "1b4564a0",
   "metadata": {},
   "outputs": [],
   "source": [
    "##ng_unadjusted_history.head()"
   ]
  },
  {
   "cell_type": "code",
   "execution_count": null,
   "id": "aca04b3c",
   "metadata": {},
   "outputs": [],
   "source": [
    "##pivot_unadj.plot() -> graph would be jumping acc to volume and pricings"
   ]
  },
  {
   "cell_type": "code",
   "execution_count": null,
   "id": "bc479373",
   "metadata": {},
   "outputs": [],
   "source": [
    "##ax=pivot_unadj.plot() \n",
    "## ng_unadjusted_history.plot(ax=ax,ls='--',c='black')\n",
    "\n",
    "## completely following along based up volume and at what pricing it should let go the individual contracts\n",
    "## *---* following this\n",
    "# to make adjustments\n",
    "## additive -> newcontract price- old contract price , base on vol roll over\n",
    "## multiplicative->new contractprice/old contract price"
   ]
  }
 ],
 "metadata": {
  "kernelspec": {
   "display_name": "Python 3",
   "language": "python",
   "name": "python3"
  },
  "language_info": {
   "codemirror_mode": {
    "name": "ipython",
    "version": 3
   },
   "file_extension": ".py",
   "mimetype": "text/x-python",
   "name": "python",
   "nbconvert_exporter": "python",
   "pygments_lexer": "ipython3",
   "version": "3.8.8"
  }
 },
 "nbformat": 4,
 "nbformat_minor": 5
}
